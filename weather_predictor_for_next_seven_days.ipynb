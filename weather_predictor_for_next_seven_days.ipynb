{
 "cells": [
  {
   "cell_type": "code",
   "execution_count": 1,
   "id": "16fba79b-c26c-4b9e-9f8e-1c7952f608f9",
   "metadata": {},
   "outputs": [],
   "source": [
    "import pandas as pd \n",
    "import numpy as np\n",
    "import matplotlib.pyplot as plt\n",
    "import seaborn as sns"
   ]
  },
  {
   "cell_type": "code",
   "execution_count": 2,
   "id": "f8d329e8-34bb-482a-8021-d600743351be",
   "metadata": {},
   "outputs": [],
   "source": [
    "data = pd.read_csv('C:/Users/Asus/Downloads/Dataset11-Weather-Data.csv')"
   ]
  },
  {
   "cell_type": "code",
   "execution_count": 3,
   "id": "510652e8-e52b-4dbc-9a44-d06065f23278",
   "metadata": {},
   "outputs": [
    {
     "data": {
      "text/html": [
       "<div>\n",
       "<style scoped>\n",
       "    .dataframe tbody tr th:only-of-type {\n",
       "        vertical-align: middle;\n",
       "    }\n",
       "\n",
       "    .dataframe tbody tr th {\n",
       "        vertical-align: top;\n",
       "    }\n",
       "\n",
       "    .dataframe thead th {\n",
       "        text-align: right;\n",
       "    }\n",
       "</style>\n",
       "<table border=\"1\" class=\"dataframe\">\n",
       "  <thead>\n",
       "    <tr style=\"text-align: right;\">\n",
       "      <th></th>\n",
       "      <th>Date/Time</th>\n",
       "      <th>Temp_C</th>\n",
       "      <th>Dew Point Temp_C</th>\n",
       "      <th>Rel Hum_%</th>\n",
       "      <th>Wind Speed_km/h</th>\n",
       "      <th>Visibility_km</th>\n",
       "      <th>Press_kPa</th>\n",
       "      <th>Weather</th>\n",
       "    </tr>\n",
       "  </thead>\n",
       "  <tbody>\n",
       "    <tr>\n",
       "      <th>0</th>\n",
       "      <td>1/1/2012 0:00</td>\n",
       "      <td>-1.8</td>\n",
       "      <td>-3.9</td>\n",
       "      <td>86</td>\n",
       "      <td>4</td>\n",
       "      <td>8.0</td>\n",
       "      <td>101.24</td>\n",
       "      <td>Fog</td>\n",
       "    </tr>\n",
       "    <tr>\n",
       "      <th>1</th>\n",
       "      <td>1/1/2012 1:00</td>\n",
       "      <td>-1.8</td>\n",
       "      <td>-3.7</td>\n",
       "      <td>87</td>\n",
       "      <td>4</td>\n",
       "      <td>8.0</td>\n",
       "      <td>101.24</td>\n",
       "      <td>Fog</td>\n",
       "    </tr>\n",
       "    <tr>\n",
       "      <th>2</th>\n",
       "      <td>1/1/2012 2:00</td>\n",
       "      <td>-1.8</td>\n",
       "      <td>-3.4</td>\n",
       "      <td>89</td>\n",
       "      <td>7</td>\n",
       "      <td>4.0</td>\n",
       "      <td>101.26</td>\n",
       "      <td>Freezing Drizzle,Fog</td>\n",
       "    </tr>\n",
       "    <tr>\n",
       "      <th>3</th>\n",
       "      <td>1/1/2012 3:00</td>\n",
       "      <td>-1.5</td>\n",
       "      <td>-3.2</td>\n",
       "      <td>88</td>\n",
       "      <td>6</td>\n",
       "      <td>4.0</td>\n",
       "      <td>101.27</td>\n",
       "      <td>Freezing Drizzle,Fog</td>\n",
       "    </tr>\n",
       "    <tr>\n",
       "      <th>4</th>\n",
       "      <td>1/1/2012 4:00</td>\n",
       "      <td>-1.5</td>\n",
       "      <td>-3.3</td>\n",
       "      <td>88</td>\n",
       "      <td>7</td>\n",
       "      <td>4.8</td>\n",
       "      <td>101.23</td>\n",
       "      <td>Fog</td>\n",
       "    </tr>\n",
       "    <tr>\n",
       "      <th>...</th>\n",
       "      <td>...</td>\n",
       "      <td>...</td>\n",
       "      <td>...</td>\n",
       "      <td>...</td>\n",
       "      <td>...</td>\n",
       "      <td>...</td>\n",
       "      <td>...</td>\n",
       "      <td>...</td>\n",
       "    </tr>\n",
       "    <tr>\n",
       "      <th>8779</th>\n",
       "      <td>12/31/2012 19:00</td>\n",
       "      <td>0.1</td>\n",
       "      <td>-2.7</td>\n",
       "      <td>81</td>\n",
       "      <td>30</td>\n",
       "      <td>9.7</td>\n",
       "      <td>100.13</td>\n",
       "      <td>Snow</td>\n",
       "    </tr>\n",
       "    <tr>\n",
       "      <th>8780</th>\n",
       "      <td>12/31/2012 20:00</td>\n",
       "      <td>0.2</td>\n",
       "      <td>-2.4</td>\n",
       "      <td>83</td>\n",
       "      <td>24</td>\n",
       "      <td>9.7</td>\n",
       "      <td>100.03</td>\n",
       "      <td>Snow</td>\n",
       "    </tr>\n",
       "    <tr>\n",
       "      <th>8781</th>\n",
       "      <td>12/31/2012 21:00</td>\n",
       "      <td>-0.5</td>\n",
       "      <td>-1.5</td>\n",
       "      <td>93</td>\n",
       "      <td>28</td>\n",
       "      <td>4.8</td>\n",
       "      <td>99.95</td>\n",
       "      <td>Snow</td>\n",
       "    </tr>\n",
       "    <tr>\n",
       "      <th>8782</th>\n",
       "      <td>12/31/2012 22:00</td>\n",
       "      <td>-0.2</td>\n",
       "      <td>-1.8</td>\n",
       "      <td>89</td>\n",
       "      <td>28</td>\n",
       "      <td>9.7</td>\n",
       "      <td>99.91</td>\n",
       "      <td>Snow</td>\n",
       "    </tr>\n",
       "    <tr>\n",
       "      <th>8783</th>\n",
       "      <td>12/31/2012 23:00</td>\n",
       "      <td>0.0</td>\n",
       "      <td>-2.1</td>\n",
       "      <td>86</td>\n",
       "      <td>30</td>\n",
       "      <td>11.3</td>\n",
       "      <td>99.89</td>\n",
       "      <td>Snow</td>\n",
       "    </tr>\n",
       "  </tbody>\n",
       "</table>\n",
       "<p>8784 rows × 8 columns</p>\n",
       "</div>"
      ],
      "text/plain": [
       "             Date/Time  Temp_C  Dew Point Temp_C  Rel Hum_%  Wind Speed_km/h  \\\n",
       "0        1/1/2012 0:00    -1.8              -3.9         86                4   \n",
       "1        1/1/2012 1:00    -1.8              -3.7         87                4   \n",
       "2        1/1/2012 2:00    -1.8              -3.4         89                7   \n",
       "3        1/1/2012 3:00    -1.5              -3.2         88                6   \n",
       "4        1/1/2012 4:00    -1.5              -3.3         88                7   \n",
       "...                ...     ...               ...        ...              ...   \n",
       "8779  12/31/2012 19:00     0.1              -2.7         81               30   \n",
       "8780  12/31/2012 20:00     0.2              -2.4         83               24   \n",
       "8781  12/31/2012 21:00    -0.5              -1.5         93               28   \n",
       "8782  12/31/2012 22:00    -0.2              -1.8         89               28   \n",
       "8783  12/31/2012 23:00     0.0              -2.1         86               30   \n",
       "\n",
       "      Visibility_km  Press_kPa               Weather  \n",
       "0               8.0     101.24                   Fog  \n",
       "1               8.0     101.24                   Fog  \n",
       "2               4.0     101.26  Freezing Drizzle,Fog  \n",
       "3               4.0     101.27  Freezing Drizzle,Fog  \n",
       "4               4.8     101.23                   Fog  \n",
       "...             ...        ...                   ...  \n",
       "8779            9.7     100.13                  Snow  \n",
       "8780            9.7     100.03                  Snow  \n",
       "8781            4.8      99.95                  Snow  \n",
       "8782            9.7      99.91                  Snow  \n",
       "8783           11.3      99.89                  Snow  \n",
       "\n",
       "[8784 rows x 8 columns]"
      ]
     },
     "execution_count": 3,
     "metadata": {},
     "output_type": "execute_result"
    }
   ],
   "source": [
    "data"
   ]
  },
  {
   "cell_type": "code",
   "execution_count": 4,
   "id": "72ab65be-aa0a-4c5e-a563-020c99690073",
   "metadata": {},
   "outputs": [
    {
     "data": {
      "text/plain": [
       "(8784, 8)"
      ]
     },
     "execution_count": 4,
     "metadata": {},
     "output_type": "execute_result"
    }
   ],
   "source": [
    "data.shape"
   ]
  },
  {
   "cell_type": "code",
   "execution_count": 5,
   "id": "8f5bbe67-79a1-4efd-ae23-a7506df9c498",
   "metadata": {},
   "outputs": [
    {
     "name": "stdout",
     "output_type": "stream",
     "text": [
      "<class 'pandas.core.frame.DataFrame'>\n",
      "RangeIndex: 8784 entries, 0 to 8783\n",
      "Data columns (total 8 columns):\n",
      " #   Column            Non-Null Count  Dtype  \n",
      "---  ------            --------------  -----  \n",
      " 0   Date/Time         8784 non-null   object \n",
      " 1   Temp_C            8784 non-null   float64\n",
      " 2   Dew Point Temp_C  8784 non-null   float64\n",
      " 3   Rel Hum_%         8784 non-null   int64  \n",
      " 4   Wind Speed_km/h   8784 non-null   int64  \n",
      " 5   Visibility_km     8784 non-null   float64\n",
      " 6   Press_kPa         8784 non-null   float64\n",
      " 7   Weather           8784 non-null   object \n",
      "dtypes: float64(4), int64(2), object(2)\n",
      "memory usage: 549.1+ KB\n"
     ]
    }
   ],
   "source": [
    "data.info()"
   ]
  },
  {
   "cell_type": "code",
   "execution_count": 6,
   "id": "023d12ed-e323-4c35-a017-6d8bbf118c28",
   "metadata": {},
   "outputs": [
    {
     "data": {
      "text/plain": [
       "Index(['Date/Time', 'Temp_C', 'Dew Point Temp_C', 'Rel Hum_%',\n",
       "       'Wind Speed_km/h', 'Visibility_km', 'Press_kPa', 'Weather'],\n",
       "      dtype='object')"
      ]
     },
     "execution_count": 6,
     "metadata": {},
     "output_type": "execute_result"
    }
   ],
   "source": [
    "data.columns"
   ]
  },
  {
   "cell_type": "code",
   "execution_count": 7,
   "id": "ed07f380-5fa9-4ea0-ad9e-fc029ee16736",
   "metadata": {},
   "outputs": [
    {
     "data": {
      "text/plain": [
       "Weather\n",
       "Mainly Clear                               2106\n",
       "Mostly Cloudy                              2069\n",
       "Cloudy                                     1728\n",
       "Clear                                      1326\n",
       "Snow                                        390\n",
       "Rain                                        306\n",
       "Rain Showers                                188\n",
       "Fog                                         150\n",
       "Rain,Fog                                    116\n",
       "Drizzle,Fog                                  80\n",
       "Snow Showers                                 60\n",
       "Drizzle                                      41\n",
       "Snow,Fog                                     37\n",
       "Snow,Blowing Snow                            19\n",
       "Rain,Snow                                    18\n",
       "Thunderstorms,Rain Showers                   16\n",
       "Haze                                         16\n",
       "Drizzle,Snow,Fog                             15\n",
       "Freezing Rain                                14\n",
       "Freezing Drizzle,Snow                        11\n",
       "Freezing Drizzle                              7\n",
       "Snow,Ice Pellets                              6\n",
       "Freezing Drizzle,Fog                          6\n",
       "Snow,Haze                                     5\n",
       "Freezing Fog                                  4\n",
       "Snow Showers,Fog                              4\n",
       "Moderate Snow                                 4\n",
       "Rain,Snow,Ice Pellets                         4\n",
       "Freezing Rain,Fog                             4\n",
       "Freezing Drizzle,Haze                         3\n",
       "Rain,Haze                                     3\n",
       "Thunderstorms,Rain                            3\n",
       "Thunderstorms,Rain Showers,Fog                3\n",
       "Freezing Rain,Haze                            2\n",
       "Drizzle,Snow                                  2\n",
       "Rain Showers,Snow Showers                     2\n",
       "Thunderstorms                                 2\n",
       "Moderate Snow,Blowing Snow                    2\n",
       "Rain Showers,Fog                              1\n",
       "Thunderstorms,Moderate Rain Showers,Fog       1\n",
       "Snow Pellets                                  1\n",
       "Rain,Snow,Fog                                 1\n",
       "Moderate Rain,Fog                             1\n",
       "Freezing Rain,Ice Pellets,Fog                 1\n",
       "Drizzle,Ice Pellets,Fog                       1\n",
       "Thunderstorms,Rain,Fog                        1\n",
       "Rain,Ice Pellets                              1\n",
       "Rain,Snow Grains                              1\n",
       "Thunderstorms,Heavy Rain Showers              1\n",
       "Freezing Rain,Snow Grains                     1\n",
       "Name: count, dtype: int64"
      ]
     },
     "execution_count": 7,
     "metadata": {},
     "output_type": "execute_result"
    }
   ],
   "source": [
    "data.Weather.value_counts()"
   ]
  },
  {
   "cell_type": "code",
   "execution_count": 8,
   "id": "3db73134-fc72-4d66-81be-bf617cb1906a",
   "metadata": {},
   "outputs": [
    {
     "data": {
      "text/plain": [
       "array(['Fog', 'Freezing Drizzle,Fog', 'Mostly Cloudy', 'Cloudy', 'Rain',\n",
       "       'Rain Showers', 'Mainly Clear', 'Snow Showers', 'Snow', 'Clear',\n",
       "       'Freezing Rain,Fog', 'Freezing Rain', 'Freezing Drizzle',\n",
       "       'Rain,Snow', 'Moderate Snow', 'Freezing Drizzle,Snow',\n",
       "       'Freezing Rain,Snow Grains', 'Snow,Blowing Snow', 'Freezing Fog',\n",
       "       'Haze', 'Rain,Fog', 'Drizzle,Fog', 'Drizzle',\n",
       "       'Freezing Drizzle,Haze', 'Freezing Rain,Haze', 'Snow,Haze',\n",
       "       'Snow,Fog', 'Snow,Ice Pellets', 'Rain,Haze', 'Thunderstorms,Rain',\n",
       "       'Thunderstorms,Rain Showers', 'Thunderstorms,Heavy Rain Showers',\n",
       "       'Thunderstorms,Rain Showers,Fog', 'Thunderstorms',\n",
       "       'Thunderstorms,Rain,Fog',\n",
       "       'Thunderstorms,Moderate Rain Showers,Fog', 'Rain Showers,Fog',\n",
       "       'Rain Showers,Snow Showers', 'Snow Pellets', 'Rain,Snow,Fog',\n",
       "       'Moderate Rain,Fog', 'Freezing Rain,Ice Pellets,Fog',\n",
       "       'Drizzle,Ice Pellets,Fog', 'Drizzle,Snow', 'Rain,Ice Pellets',\n",
       "       'Drizzle,Snow,Fog', 'Rain,Snow Grains', 'Rain,Snow,Ice Pellets',\n",
       "       'Snow Showers,Fog', 'Moderate Snow,Blowing Snow'], dtype=object)"
      ]
     },
     "execution_count": 8,
     "metadata": {},
     "output_type": "execute_result"
    }
   ],
   "source": [
    "data.Weather.unique()"
   ]
  },
  {
   "cell_type": "markdown",
   "id": "68c4c0ad-3b32-4552-b666-6af4d57ab65b",
   "metadata": {},
   "source": [
    "## unique weather states"
   ]
  },
  {
   "cell_type": "code",
   "execution_count": 9,
   "id": "98e0e3c3-d46a-4d61-9438-7fb3375e137a",
   "metadata": {},
   "outputs": [],
   "source": [
    "weather = data.Weather.unique()"
   ]
  },
  {
   "cell_type": "code",
   "execution_count": 10,
   "id": "b0e9c2f8-dac0-48cb-acda-7456bb1fac9d",
   "metadata": {},
   "outputs": [
    {
     "data": {
      "text/plain": [
       "array(['Fog', 'Freezing Drizzle,Fog', 'Mostly Cloudy', 'Cloudy', 'Rain',\n",
       "       'Rain Showers', 'Mainly Clear', 'Snow Showers', 'Snow', 'Clear',\n",
       "       'Freezing Rain,Fog', 'Freezing Rain', 'Freezing Drizzle',\n",
       "       'Rain,Snow', 'Moderate Snow', 'Freezing Drizzle,Snow',\n",
       "       'Freezing Rain,Snow Grains', 'Snow,Blowing Snow', 'Freezing Fog',\n",
       "       'Haze', 'Rain,Fog', 'Drizzle,Fog', 'Drizzle',\n",
       "       'Freezing Drizzle,Haze', 'Freezing Rain,Haze', 'Snow,Haze',\n",
       "       'Snow,Fog', 'Snow,Ice Pellets', 'Rain,Haze', 'Thunderstorms,Rain',\n",
       "       'Thunderstorms,Rain Showers', 'Thunderstorms,Heavy Rain Showers',\n",
       "       'Thunderstorms,Rain Showers,Fog', 'Thunderstorms',\n",
       "       'Thunderstorms,Rain,Fog',\n",
       "       'Thunderstorms,Moderate Rain Showers,Fog', 'Rain Showers,Fog',\n",
       "       'Rain Showers,Snow Showers', 'Snow Pellets', 'Rain,Snow,Fog',\n",
       "       'Moderate Rain,Fog', 'Freezing Rain,Ice Pellets,Fog',\n",
       "       'Drizzle,Ice Pellets,Fog', 'Drizzle,Snow', 'Rain,Ice Pellets',\n",
       "       'Drizzle,Snow,Fog', 'Rain,Snow Grains', 'Rain,Snow,Ice Pellets',\n",
       "       'Snow Showers,Fog', 'Moderate Snow,Blowing Snow'], dtype=object)"
      ]
     },
     "execution_count": 10,
     "metadata": {},
     "output_type": "execute_result"
    }
   ],
   "source": [
    "weather"
   ]
  },
  {
   "cell_type": "markdown",
   "id": "c0170ef6-1eb5-447b-9870-8be9141aac5b",
   "metadata": {},
   "source": [
    "# transition between weather state"
   ]
  },
  {
   "cell_type": "code",
   "execution_count": 11,
   "id": "178d927e-e4a8-424e-9b8d-1ad18c0a1372",
   "metadata": {},
   "outputs": [
    {
     "name": "stdout",
     "output_type": "stream",
     "text": [
      "From Fog: {'Fog': 100, 'Freezing Drizzle,Fog': 1, 'Mostly Cloudy': 3, 'Snow': 1, 'Haze': 5, 'Mainly Clear': 5, 'Cloudy': 13, 'Rain,Fog': 4, 'Drizzle,Fog': 12, 'Freezing Fog': 1, 'Clear': 3, 'Rain Showers,Fog': 1, 'Snow Showers,Fog': 1}\n",
      "From Freezing Drizzle,Fog: {'Freezing Drizzle,Fog': 2, 'Fog': 1, 'Freezing Rain,Fog': 2, 'Snow': 1}\n",
      "From Mostly Cloudy: {'Cloudy': 334, 'Mostly Cloudy': 1263, 'Mainly Clear': 363, 'Snow Showers': 12, 'Snow': 8, 'Clear': 25, 'Fog': 3, 'Rain,Snow': 1, 'Rain Showers': 49, 'Thunderstorms,Rain Showers': 2, 'Rain': 3, 'Thunderstorms': 2, 'Drizzle,Fog': 1, 'Haze': 1, 'Snow Pellets': 1, 'Snow Showers,Fog': 1}\n",
      "From Cloudy: {'Rain': 49, 'Cloudy': 1146, 'Rain Showers': 73, 'Mostly Cloudy': 316, 'Snow Showers': 16, 'Snow': 48, 'Freezing Drizzle,Fog': 1, 'Rain,Snow': 1, 'Freezing Rain': 1, 'Freezing Drizzle': 2, 'Mainly Clear': 32, 'Haze': 1, 'Clear': 1, 'Rain,Haze': 1, 'Fog': 9, 'Rain,Fog': 3, 'Drizzle': 11, 'Drizzle,Fog': 3, 'Thunderstorms,Rain': 2, 'Thunderstorms,Rain Showers,Fog': 1, 'Thunderstorms,Rain Showers': 8, 'Rain Showers,Snow Showers': 2, 'Rain,Snow Grains': 1}\n",
      "From Rain: {'Rain': 195, 'Cloudy': 60, 'Rain,Fog': 20, 'Snow': 3, 'Drizzle': 7, 'Rain,Snow': 3, 'Mostly Cloudy': 12, 'Rain Showers': 1, 'Thunderstorms,Rain,Fog': 1, 'Thunderstorms,Rain Showers,Fog': 1, 'Fog': 1, 'Mainly Clear': 1, 'Rain,Ice Pellets': 1}\n",
      "From Rain Showers: {'Cloudy': 46, 'Mainly Clear': 9, 'Mostly Cloudy': 39, 'Rain Showers': 55, 'Rain': 28, 'Rain,Fog': 5, 'Drizzle': 3, 'Thunderstorms,Rain Showers,Fog': 1, 'Thunderstorms,Rain Showers': 1, 'Snow Showers': 1}\n",
      "From Mainly Clear: {'Mostly Cloudy': 371, 'Mainly Clear': 1410, 'Clear': 288, 'Cloudy': 27, 'Freezing Fog': 1, 'Snow Showers': 1, 'Fog': 2, 'Snow': 1, 'Rain Showers': 4, 'Rain,Fog': 1}\n",
      "From Snow Showers: {'Mostly Cloudy': 8, 'Snow Showers': 27, 'Cloudy': 16, 'Snow': 8, 'Mainly Clear': 1}\n",
      "From Snow: {'Mostly Cloudy': 16, 'Cloudy': 44, 'Snow': 294, 'Mainly Clear': 3, 'Fog': 4, 'Moderate Snow': 2, 'Freezing Drizzle,Snow': 6, 'Snow,Blowing Snow': 5, 'Freezing Rain': 1, 'Freezing Drizzle': 1, 'Snow,Fog': 4, 'Rain,Snow': 2, 'Rain': 2, 'Snow,Ice Pellets': 3, 'Snow Showers': 1, 'Drizzle,Snow,Fog': 1}\n",
      "From Clear: {'Mainly Clear': 276, 'Clear': 1009, 'Cloudy': 2, 'Mostly Cloudy': 32, 'Freezing Fog': 1, 'Fog': 6}\n",
      "From Freezing Rain,Fog: {'Freezing Rain': 2, 'Fog': 1, 'Rain,Fog': 1}\n",
      "From Freezing Rain: {'Freezing Drizzle': 2, 'Snow': 2, 'Freezing Rain,Snow Grains': 1, 'Freezing Rain': 5, 'Freezing Rain,Fog': 1, 'Rain': 1, 'Cloudy': 1, 'Freezing Rain,Ice Pellets,Fog': 1}\n",
      "From Freezing Drizzle: {'Freezing Drizzle': 1, 'Freezing Rain': 4, 'Freezing Drizzle,Snow': 1, 'Freezing Rain,Fog': 1}\n",
      "From Rain,Snow: {'Snow': 3, 'Mainly Clear': 1, 'Rain': 4, 'Rain,Snow': 9, 'Rain,Snow,Ice Pellets': 1}\n",
      "From Moderate Snow: {'Moderate Snow': 2, 'Snow': 1, 'Moderate Snow,Blowing Snow': 1}\n",
      "From Freezing Drizzle,Snow: {'Cloudy': 1, 'Freezing Drizzle,Snow': 4, 'Snow': 5, 'Freezing Rain': 1}\n",
      "From Freezing Rain,Snow Grains: {'Freezing Drizzle': 1}\n",
      "From Snow,Blowing Snow: {'Snow': 6, 'Snow,Blowing Snow': 12, 'Moderate Snow,Blowing Snow': 1}\n",
      "From Freezing Fog: {'Mainly Clear': 1, 'Cloudy': 1, 'Freezing Fog': 1, 'Fog': 1}\n",
      "From Haze: {'Haze': 6, 'Cloudy': 3, 'Freezing Drizzle,Haze': 1, 'Snow,Haze': 1, 'Drizzle,Fog': 1, 'Rain,Fog': 1, 'Fog': 1, 'Mostly Cloudy': 2}\n",
      "From Rain,Fog: {'Rain,Fog': 70, 'Drizzle,Fog': 10, 'Rain': 20, 'Snow': 1, 'Haze': 1, 'Snow,Fog': 1, 'Fog': 5, 'Cloudy': 4, 'Mainly Clear': 1, 'Mostly Cloudy': 1, 'Rain,Snow,Fog': 1, 'Moderate Rain,Fog': 1}\n",
      "From Drizzle,Fog: {'Drizzle': 4, 'Drizzle,Fog': 44, 'Freezing Drizzle,Fog': 1, 'Fog': 14, 'Haze': 1, 'Snow,Fog': 1, 'Rain,Fog': 8, 'Cloudy': 4, 'Rain': 1, 'Mostly Cloudy': 1, 'Drizzle,Ice Pellets,Fog': 1}\n",
      "From Drizzle: {'Cloudy': 13, 'Drizzle': 14, 'Drizzle,Fog': 6, 'Rain,Fog': 1, 'Rain': 2, 'Mostly Cloudy': 1, 'Rain Showers': 1, 'Drizzle,Snow,Fog': 2, 'Drizzle,Snow': 1}\n",
      "From Freezing Drizzle,Haze: {'Freezing Drizzle,Haze': 2, 'Freezing Rain,Haze': 1}\n",
      "From Freezing Rain,Haze: {'Freezing Rain,Haze': 1, 'Haze': 1}\n",
      "From Snow,Haze: {'Snow,Haze': 4, 'Snow': 1}\n",
      "From Snow,Fog: {'Snow,Fog': 28, 'Snow': 5, 'Rain,Fog': 1, 'Cloudy': 1, 'Drizzle,Snow': 1, 'Mostly Cloudy': 1}\n",
      "From Snow,Ice Pellets: {'Cloudy': 3, 'Freezing Drizzle,Fog': 1, 'Snow,Ice Pellets': 2}\n",
      "From Rain,Haze: {'Rain,Haze': 2, 'Drizzle,Fog': 1}\n",
      "From Thunderstorms,Rain: {'Mainly Clear': 1, 'Thunderstorms,Rain': 1, 'Rain': 1}\n",
      "From Thunderstorms,Rain Showers: {'Thunderstorms,Rain Showers': 3, 'Thunderstorms,Heavy Rain Showers': 1, 'Rain Showers': 4, 'Mainly Clear': 1, 'Cloudy': 6, 'Mostly Cloudy': 1}\n",
      "From Thunderstorms,Heavy Rain Showers: {'Cloudy': 1}\n",
      "From Thunderstorms,Rain Showers,Fog: {'Cloudy': 1, 'Mostly Cloudy': 1, 'Thunderstorms,Rain Showers': 1}\n",
      "From Thunderstorms: {'Thunderstorms,Rain Showers': 1, 'Rain Showers': 1}\n",
      "From Thunderstorms,Rain,Fog: {'Thunderstorms,Moderate Rain Showers,Fog': 1}\n",
      "From Thunderstorms,Moderate Rain Showers,Fog: {'Drizzle,Fog': 1}\n",
      "From Rain Showers,Fog: {'Cloudy': 1}\n",
      "From Rain Showers,Snow Showers: {'Snow Showers': 2}\n",
      "From Snow Pellets: {'Mostly Cloudy': 1}\n",
      "From Rain,Snow,Fog: {'Fog': 1}\n",
      "From Moderate Rain,Fog: {'Rain,Fog': 1}\n",
      "From Freezing Rain,Ice Pellets,Fog: {'Snow,Ice Pellets': 1}\n",
      "From Drizzle,Ice Pellets,Fog: {'Snow,Fog': 1}\n",
      "From Drizzle,Snow: {'Drizzle': 1, 'Snow,Fog': 1}\n",
      "From Rain,Ice Pellets: {'Snow': 1}\n",
      "From Drizzle,Snow,Fog: {'Drizzle,Snow,Fog': 12, 'Drizzle,Fog': 1, 'Drizzle': 1, 'Snow': 1}\n",
      "From Rain,Snow Grains: {'Rain,Snow,Ice Pellets': 1}\n",
      "From Rain,Snow,Ice Pellets: {'Rain,Snow': 2, 'Rain,Snow,Ice Pellets': 2}\n",
      "From Snow Showers,Fog: {'Mainly Clear': 1, 'Snow Showers,Fog': 2, 'Snow,Fog': 1}\n",
      "From Moderate Snow,Blowing Snow: {'Snow,Blowing Snow': 2}\n"
     ]
    }
   ],
   "source": [
    "from collections import defaultdict\n",
    "\n",
    "# Initialize a dictionary to hold transition counts\n",
    "transitions = defaultdict(lambda: defaultdict(int))\n",
    "\n",
    "# Loop through the dataset and count transitions\n",
    "for i in range(1, len(data)):\n",
    "    current_state = data['Weather'].iloc[i-1]\n",
    "    next_state = data['Weather'].iloc[i]\n",
    "    transitions[current_state][next_state] += 1\n",
    "\n",
    "# Print the transition counts\n",
    "for current_state, next_states in transitions.items():\n",
    "    print(f\"From {current_state}: {dict(next_states)}\")\n"
   ]
  },
  {
   "cell_type": "markdown",
   "id": "f1742cba-c08c-47aa-be8b-10c3c88ec746",
   "metadata": {},
   "source": [
    "# transition counts to probaablities "
   ]
  },
  {
   "cell_type": "code",
   "execution_count": 19,
   "id": "29a655fc-0fc5-4b68-a48b-861b751be6a8",
   "metadata": {},
   "outputs": [
    {
     "name": "stdout",
     "output_type": "stream",
     "text": [
      "Fog: {'Fog': 0.6666666666666666, 'Freezing Drizzle,Fog': 0.006666666666666667, 'Mostly Cloudy': 0.02, 'Snow': 0.006666666666666667, 'Haze': 0.03333333333333333, 'Mainly Clear': 0.03333333333333333, 'Cloudy': 0.08666666666666667, 'Rain,Fog': 0.02666666666666667, 'Drizzle,Fog': 0.08, 'Freezing Fog': 0.006666666666666667, 'Clear': 0.02, 'Rain Showers,Fog': 0.006666666666666667, 'Snow Showers,Fog': 0.006666666666666667}\n",
      "Freezing Drizzle,Fog: {'Freezing Drizzle,Fog': 0.3333333333333333, 'Fog': 0.16666666666666666, 'Freezing Rain,Fog': 0.3333333333333333, 'Snow': 0.16666666666666666}\n",
      "Mostly Cloudy: {'Cloudy': 0.16143064282261962, 'Mostly Cloudy': 0.6104398260028999, 'Mainly Clear': 0.17544707588206862, 'Snow Showers': 0.005799903334944417, 'Snow': 0.0038666022232962784, 'Clear': 0.01208313194780087, 'Fog': 0.0014499758337361043, 'Rain,Snow': 0.0004833252779120348, 'Rain Showers': 0.023682938617689706, 'Thunderstorms,Rain Showers': 0.0009666505558240696, 'Rain': 0.0014499758337361043, 'Thunderstorms': 0.0009666505558240696, 'Drizzle,Fog': 0.0004833252779120348, 'Haze': 0.0004833252779120348, 'Snow Pellets': 0.0004833252779120348, 'Snow Showers,Fog': 0.0004833252779120348}\n",
      "Cloudy: {'Rain': 0.028356481481481483, 'Cloudy': 0.6631944444444444, 'Rain Showers': 0.04224537037037037, 'Mostly Cloudy': 0.18287037037037038, 'Snow Showers': 0.009259259259259259, 'Snow': 0.027777777777777776, 'Freezing Drizzle,Fog': 0.0005787037037037037, 'Rain,Snow': 0.0005787037037037037, 'Freezing Rain': 0.0005787037037037037, 'Freezing Drizzle': 0.0011574074074074073, 'Mainly Clear': 0.018518518518518517, 'Haze': 0.0005787037037037037, 'Clear': 0.0005787037037037037, 'Rain,Haze': 0.0005787037037037037, 'Fog': 0.005208333333333333, 'Rain,Fog': 0.001736111111111111, 'Drizzle': 0.00636574074074074, 'Drizzle,Fog': 0.001736111111111111, 'Thunderstorms,Rain': 0.0011574074074074073, 'Thunderstorms,Rain Showers,Fog': 0.0005787037037037037, 'Thunderstorms,Rain Showers': 0.004629629629629629, 'Rain Showers,Snow Showers': 0.0011574074074074073, 'Rain,Snow Grains': 0.0005787037037037037}\n",
      "Rain: {'Rain': 0.6372549019607843, 'Cloudy': 0.19607843137254902, 'Rain,Fog': 0.06535947712418301, 'Snow': 0.00980392156862745, 'Drizzle': 0.02287581699346405, 'Rain,Snow': 0.00980392156862745, 'Mostly Cloudy': 0.0392156862745098, 'Rain Showers': 0.0032679738562091504, 'Thunderstorms,Rain,Fog': 0.0032679738562091504, 'Thunderstorms,Rain Showers,Fog': 0.0032679738562091504, 'Fog': 0.0032679738562091504, 'Mainly Clear': 0.0032679738562091504, 'Rain,Ice Pellets': 0.0032679738562091504}\n",
      "Rain Showers: {'Cloudy': 0.24468085106382978, 'Mainly Clear': 0.047872340425531915, 'Mostly Cloudy': 0.2074468085106383, 'Rain Showers': 0.2925531914893617, 'Rain': 0.14893617021276595, 'Rain,Fog': 0.026595744680851064, 'Drizzle': 0.015957446808510637, 'Thunderstorms,Rain Showers,Fog': 0.005319148936170213, 'Thunderstorms,Rain Showers': 0.005319148936170213, 'Snow Showers': 0.005319148936170213}\n",
      "Mainly Clear: {'Mostly Cloudy': 0.1761633428300095, 'Mainly Clear': 0.6695156695156695, 'Clear': 0.13675213675213677, 'Cloudy': 0.01282051282051282, 'Freezing Fog': 0.0004748338081671415, 'Snow Showers': 0.0004748338081671415, 'Fog': 0.000949667616334283, 'Snow': 0.0004748338081671415, 'Rain Showers': 0.001899335232668566, 'Rain,Fog': 0.0004748338081671415}\n",
      "Snow Showers: {'Mostly Cloudy': 0.13333333333333333, 'Snow Showers': 0.45, 'Cloudy': 0.26666666666666666, 'Snow': 0.13333333333333333, 'Mainly Clear': 0.016666666666666666}\n",
      "Snow: {'Mostly Cloudy': 0.04113110539845758, 'Cloudy': 0.11311053984575835, 'Snow': 0.7557840616966581, 'Mainly Clear': 0.007712082262210797, 'Fog': 0.010282776349614395, 'Moderate Snow': 0.005141388174807198, 'Freezing Drizzle,Snow': 0.015424164524421594, 'Snow,Blowing Snow': 0.012853470437017995, 'Freezing Rain': 0.002570694087403599, 'Freezing Drizzle': 0.002570694087403599, 'Snow,Fog': 0.010282776349614395, 'Rain,Snow': 0.005141388174807198, 'Rain': 0.005141388174807198, 'Snow,Ice Pellets': 0.007712082262210797, 'Snow Showers': 0.002570694087403599, 'Drizzle,Snow,Fog': 0.002570694087403599}\n",
      "Clear: {'Mainly Clear': 0.2081447963800905, 'Clear': 0.7609351432880844, 'Cloudy': 0.0015082956259426848, 'Mostly Cloudy': 0.024132730015082957, 'Freezing Fog': 0.0007541478129713424, 'Fog': 0.004524886877828055}\n",
      "Freezing Rain,Fog: {'Freezing Rain': 0.5, 'Fog': 0.25, 'Rain,Fog': 0.25}\n",
      "Freezing Rain: {'Freezing Drizzle': 0.14285714285714285, 'Snow': 0.14285714285714285, 'Freezing Rain,Snow Grains': 0.07142857142857142, 'Freezing Rain': 0.35714285714285715, 'Freezing Rain,Fog': 0.07142857142857142, 'Rain': 0.07142857142857142, 'Cloudy': 0.07142857142857142, 'Freezing Rain,Ice Pellets,Fog': 0.07142857142857142}\n",
      "Freezing Drizzle: {'Freezing Drizzle': 0.14285714285714285, 'Freezing Rain': 0.5714285714285714, 'Freezing Drizzle,Snow': 0.14285714285714285, 'Freezing Rain,Fog': 0.14285714285714285}\n",
      "Rain,Snow: {'Snow': 0.16666666666666666, 'Mainly Clear': 0.05555555555555555, 'Rain': 0.2222222222222222, 'Rain,Snow': 0.5, 'Rain,Snow,Ice Pellets': 0.05555555555555555}\n",
      "Moderate Snow: {'Moderate Snow': 0.5, 'Snow': 0.25, 'Moderate Snow,Blowing Snow': 0.25}\n",
      "Freezing Drizzle,Snow: {'Cloudy': 0.09090909090909091, 'Freezing Drizzle,Snow': 0.36363636363636365, 'Snow': 0.45454545454545453, 'Freezing Rain': 0.09090909090909091}\n",
      "Freezing Rain,Snow Grains: {'Freezing Drizzle': 1.0}\n",
      "Snow,Blowing Snow: {'Snow': 0.3157894736842105, 'Snow,Blowing Snow': 0.631578947368421, 'Moderate Snow,Blowing Snow': 0.05263157894736842}\n",
      "Freezing Fog: {'Mainly Clear': 0.25, 'Cloudy': 0.25, 'Freezing Fog': 0.25, 'Fog': 0.25}\n",
      "Haze: {'Haze': 0.375, 'Cloudy': 0.1875, 'Freezing Drizzle,Haze': 0.0625, 'Snow,Haze': 0.0625, 'Drizzle,Fog': 0.0625, 'Rain,Fog': 0.0625, 'Fog': 0.0625, 'Mostly Cloudy': 0.125}\n",
      "Rain,Fog: {'Rain,Fog': 0.603448275862069, 'Drizzle,Fog': 0.08620689655172414, 'Rain': 0.1724137931034483, 'Snow': 0.008620689655172414, 'Haze': 0.008620689655172414, 'Snow,Fog': 0.008620689655172414, 'Fog': 0.04310344827586207, 'Cloudy': 0.034482758620689655, 'Mainly Clear': 0.008620689655172414, 'Mostly Cloudy': 0.008620689655172414, 'Rain,Snow,Fog': 0.008620689655172414, 'Moderate Rain,Fog': 0.008620689655172414}\n",
      "Drizzle,Fog: {'Drizzle': 0.05, 'Drizzle,Fog': 0.55, 'Freezing Drizzle,Fog': 0.0125, 'Fog': 0.175, 'Haze': 0.0125, 'Snow,Fog': 0.0125, 'Rain,Fog': 0.1, 'Cloudy': 0.05, 'Rain': 0.0125, 'Mostly Cloudy': 0.0125, 'Drizzle,Ice Pellets,Fog': 0.0125}\n",
      "Drizzle: {'Cloudy': 0.3170731707317073, 'Drizzle': 0.34146341463414637, 'Drizzle,Fog': 0.14634146341463414, 'Rain,Fog': 0.024390243902439025, 'Rain': 0.04878048780487805, 'Mostly Cloudy': 0.024390243902439025, 'Rain Showers': 0.024390243902439025, 'Drizzle,Snow,Fog': 0.04878048780487805, 'Drizzle,Snow': 0.024390243902439025}\n",
      "Freezing Drizzle,Haze: {'Freezing Drizzle,Haze': 0.6666666666666666, 'Freezing Rain,Haze': 0.3333333333333333}\n",
      "Freezing Rain,Haze: {'Freezing Rain,Haze': 0.5, 'Haze': 0.5}\n",
      "Snow,Haze: {'Snow,Haze': 0.8, 'Snow': 0.2}\n",
      "Snow,Fog: {'Snow,Fog': 0.7567567567567568, 'Snow': 0.13513513513513514, 'Rain,Fog': 0.02702702702702703, 'Cloudy': 0.02702702702702703, 'Drizzle,Snow': 0.02702702702702703, 'Mostly Cloudy': 0.02702702702702703}\n",
      "Snow,Ice Pellets: {'Cloudy': 0.5, 'Freezing Drizzle,Fog': 0.16666666666666666, 'Snow,Ice Pellets': 0.3333333333333333}\n",
      "Rain,Haze: {'Rain,Haze': 0.6666666666666666, 'Drizzle,Fog': 0.3333333333333333}\n",
      "Thunderstorms,Rain: {'Mainly Clear': 0.3333333333333333, 'Thunderstorms,Rain': 0.3333333333333333, 'Rain': 0.3333333333333333}\n",
      "Thunderstorms,Rain Showers: {'Thunderstorms,Rain Showers': 0.1875, 'Thunderstorms,Heavy Rain Showers': 0.0625, 'Rain Showers': 0.25, 'Mainly Clear': 0.0625, 'Cloudy': 0.375, 'Mostly Cloudy': 0.0625}\n",
      "Thunderstorms,Heavy Rain Showers: {'Cloudy': 1.0}\n",
      "Thunderstorms,Rain Showers,Fog: {'Cloudy': 0.3333333333333333, 'Mostly Cloudy': 0.3333333333333333, 'Thunderstorms,Rain Showers': 0.3333333333333333}\n",
      "Thunderstorms: {'Thunderstorms,Rain Showers': 0.5, 'Rain Showers': 0.5}\n",
      "Thunderstorms,Rain,Fog: {'Thunderstorms,Moderate Rain Showers,Fog': 1.0}\n",
      "Thunderstorms,Moderate Rain Showers,Fog: {'Drizzle,Fog': 1.0}\n",
      "Rain Showers,Fog: {'Cloudy': 1.0}\n",
      "Rain Showers,Snow Showers: {'Snow Showers': 1.0}\n",
      "Snow Pellets: {'Mostly Cloudy': 1.0}\n",
      "Rain,Snow,Fog: {'Fog': 1.0}\n",
      "Moderate Rain,Fog: {'Rain,Fog': 1.0}\n",
      "Freezing Rain,Ice Pellets,Fog: {'Snow,Ice Pellets': 1.0}\n",
      "Drizzle,Ice Pellets,Fog: {'Snow,Fog': 1.0}\n",
      "Drizzle,Snow: {'Drizzle': 0.5, 'Snow,Fog': 0.5}\n",
      "Rain,Ice Pellets: {'Snow': 1.0}\n",
      "Drizzle,Snow,Fog: {'Drizzle,Snow,Fog': 0.8, 'Drizzle,Fog': 0.06666666666666667, 'Drizzle': 0.06666666666666667, 'Snow': 0.06666666666666667}\n",
      "Rain,Snow Grains: {'Rain,Snow,Ice Pellets': 1.0}\n",
      "Rain,Snow,Ice Pellets: {'Rain,Snow': 0.5, 'Rain,Snow,Ice Pellets': 0.5}\n",
      "Snow Showers,Fog: {'Mainly Clear': 0.25, 'Snow Showers,Fog': 0.5, 'Snow,Fog': 0.25}\n",
      "Moderate Snow,Blowing Snow: {'Snow,Blowing Snow': 1.0}\n"
     ]
    }
   ],
   "source": [
    "# Initialize an empty transition matrix\n",
    "transition_matrix = {}\n",
    "\n",
    "# Convert counts to probabilities\n",
    "for current_state, next_states in transitions.items():\n",
    "    total_transitions = sum(next_states.values())\n",
    "    transition_matrix[current_state] = {state: count/total_transitions for state, count in next_states.items()}\n",
    "\n",
    "# Print the transition matrix (as probabilities)\n",
    "for current_state, next_states in transition_matrix.items():\n",
    "    print(f\"{current_state}: {next_states}\")\n"
   ]
  },
  {
   "cell_type": "markdown",
   "id": "59cdf4ba-d102-44ab-aa80-da523e4e7acc",
   "metadata": {},
   "source": [
    "# Weather prediction for next day "
   ]
  },
  {
   "cell_type": "code",
   "execution_count": 15,
   "id": "a96cb814-123d-4857-bbe9-a14eef6ec80a",
   "metadata": {},
   "outputs": [
    {
     "name": "stdout",
     "output_type": "stream",
     "text": [
      "Tomorrow's predicted weather: Cloudy\n"
     ]
    }
   ],
   "source": [
    "import random\n",
    "\n",
    "def predict_next_weather(current_weather, transition_matrix):\n",
    "    # Get the next weather states and their probabilities\n",
    "    next_weather_states = list(transition_matrix[current_weather].keys())\n",
    "    probabilities = list(transition_matrix[current_weather].values())\n",
    "\n",
    "    # Randomly choose the next weather condition based on the probabilities\n",
    "    next_weather = random.choices(next_weather_states, probabilities)[0]\n",
    "    return next_weather\n",
    "\n",
    "# Example usage\n",
    "current_weather = 'Fog'  # Assume today's weather is Fog\n",
    "next_weather = predict_next_weather(current_weather, transition_matrix)\n",
    "print(f\"Tomorrow's predicted weather: {next_weather}\")\n"
   ]
  },
  {
   "cell_type": "markdown",
   "id": "48a08f37-3dc7-43bb-92aa-e533dcee2205",
   "metadata": {},
   "source": [
    "# weather prediction for next 7 days"
   ]
  },
  {
   "cell_type": "code",
   "execution_count": 18,
   "id": "e173c2b2-e5eb-4791-9227-5430ef0f60b2",
   "metadata": {},
   "outputs": [
    {
     "name": "stdout",
     "output_type": "stream",
     "text": [
      "7-Day Weather Forecast: ['Fog', 'Drizzle,Fog', 'Fog', 'Fog', 'Fog', 'Cloudy', 'Cloudy']\n"
     ]
    }
   ],
   "source": [
    "def predict_weather_for_days(current_weather, transition_matrix, days=7):\n",
    "    forecast = []\n",
    "    for _ in range(days):\n",
    "        next_weather = predict_next_weather(current_weather, transition_matrix)\n",
    "        forecast.append(next_weather)\n",
    "        current_weather = next_weather\n",
    "    return forecast\n",
    "\n",
    "# Example usage for a 7-day forecast\n",
    "current_weather = 'Fog'\n",
    "seven_day_forecast = predict_weather_for_days(current_weather, transition_matrix, days=7)\n",
    "print(\"7-Day Weather Forecast:\", seven_day_forecast)\n"
   ]
  },
  {
   "cell_type": "code",
   "execution_count": null,
   "id": "b3063d25-6135-4715-8b16-b638a67d022e",
   "metadata": {},
   "outputs": [],
   "source": []
  },
  {
   "cell_type": "code",
   "execution_count": null,
   "id": "58821d03-10e7-4401-b589-1c88974326b1",
   "metadata": {},
   "outputs": [],
   "source": []
  }
 ],
 "metadata": {
  "kernelspec": {
   "display_name": "Python 3 (ipykernel)",
   "language": "python",
   "name": "python3"
  },
  "language_info": {
   "codemirror_mode": {
    "name": "ipython",
    "version": 3
   },
   "file_extension": ".py",
   "mimetype": "text/x-python",
   "name": "python",
   "nbconvert_exporter": "python",
   "pygments_lexer": "ipython3",
   "version": "3.11.7"
  }
 },
 "nbformat": 4,
 "nbformat_minor": 5
}
